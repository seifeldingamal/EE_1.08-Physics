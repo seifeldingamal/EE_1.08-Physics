{
 "cells": [
  {
   "cell_type": "markdown",
   "id": "441dff85-0489-46c8-9bc5-61c9e051b2b5",
   "metadata": {},
   "source": [
    "# Real-Time Plotting of Arduino Data\n",
    "\n",
    "**UNDER DEVELOPMENT!**\n",
    "\n",
    "Based on YT video<br>\n",
    "_Create GUI apps in Jupyter using ipywidgets_ by **Everton Colling**:<br>\n",
    "https://www.youtube.com/watch?v=f0WmLo8AVxo\n",
    "\n",
    "Other inspirations:\n",
    "* https://stackoverflow.com/questions/70625801/threading-reading-a-serial-port-in-python-with-a-gui"
   ]
  },
  {
   "cell_type": "code",
   "execution_count": 1,
   "id": "a02c9b9c-c790-458d-a71e-4d1b968fee23",
   "metadata": {},
   "outputs": [],
   "source": [
    "# import libraries\n",
    "from ipywidgets.widgets import Label, FloatProgress, FloatSlider, Button, Dropdown\n",
    "from ipywidgets.widgets import Layout, HBox, VBox\n",
    "from IPython.display import display\n",
    "import bqplot as bq\n",
    "import numpy as np\n",
    "import time\n",
    "import threading\n",
    "import serial, serial.tools.list_ports"
   ]
  },
  {
   "cell_type": "code",
   "execution_count": 2,
   "id": "6023b22e-54e4-4755-88d1-4993e9c37ef3",
   "metadata": {},
   "outputs": [],
   "source": [
    "BUFSIZE = 1200\n",
    "x = np.zeros(BUFSIZE)\n",
    "y = np.zeros(BUFSIZE)"
   ]
  },
  {
   "cell_type": "code",
   "execution_count": 3,
   "id": "6f2f1027-8155-4218-89f4-b29b6a950889",
   "metadata": {},
   "outputs": [],
   "source": [
    "flag = True"
   ]
  },
  {
   "cell_type": "code",
   "execution_count": 4,
   "id": "660f4558-7706-4b3e-a7fd-ffe841d3b38d",
   "metadata": {},
   "outputs": [],
   "source": [
    "list_ports = serial.tools.list_ports.comports()\n",
    "portnames = [port.name for port in list_ports]"
   ]
  },
  {
   "cell_type": "code",
   "execution_count": 5,
   "id": "5eea4fc8-1aef-41f8-b76b-ba4b1204ae1f",
   "metadata": {},
   "outputs": [],
   "source": [
    "# Dropdown with all known ports\n",
    "dd_ports = Dropdown(\n",
    "    options=portnames,\n",
    "    value=portnames[-1],\n",
    "    description='Port:',\n",
    "    disabled=False\n",
    ")\n",
    "\n",
    "def ports_on_change(change):\n",
    "    if change['type'] == 'change' and change['name'] == 'value':\n",
    "        print(\"changed to %s\" % change['new'])\n",
    "\n",
    "dd_ports.observe(ports_on_change)\n",
    "\n",
    "# display(dd_ports)"
   ]
  },
  {
   "cell_type": "code",
   "execution_count": 6,
   "id": "f970b1be-b6f0-4768-9e48-fc543edeaf60",
   "metadata": {},
   "outputs": [],
   "source": [
    "# Button \"Open Port\"\n",
    "b_open = Button(\n",
    "    description = \"Open Port\", \n",
    "    icon=\"start\",\n",
    "    button_style=\"warning\",\n",
    "    layout = Layout(width=\"100px\")\n",
    ")\n",
    "\n",
    "def open_click(b):\n",
    "    open_ser_port(dd_ports.value)\n",
    "    \n",
    "b_open.on_click(open_click)\n",
    "\n",
    "def open_ser_port(portname):\n",
    "    try:\n",
    "        global ser\n",
    "        ser = serial.Serial()\n",
    "        BAUDRATE = 115200\n",
    "        ser.baudrate = BAUDRATE\n",
    "        ser.port = portname\n",
    "        ser.open()\n",
    "    except:\n",
    "        print(f\"Error! Could not open port {portname:s}.\")\n",
    "        \n",
    "    print(f\"Port {portname:s} is open: {bool(ser.is_open)}.\")\n",
    "    \n",
    "# display(b_open)"
   ]
  },
  {
   "cell_type": "code",
   "execution_count": 7,
   "id": "64dd6a5b-4a2f-4c23-8c47-621e884e0463",
   "metadata": {},
   "outputs": [
    {
     "data": {
      "application/vnd.jupyter.widget-view+json": {
       "model_id": "59aeb8b68afe4e48aa85d11187464da2",
       "version_major": 2,
       "version_minor": 0
      },
      "text/plain": [
       "HBox(children=(Dropdown(description='Port:', index=1, options=('COM3', 'COM16'), value='COM16'), Button(button…"
      ]
     },
     "metadata": {},
     "output_type": "display_data"
    }
   ],
   "source": [
    "# Open port dialog\n",
    "port_box = HBox(\n",
    "    children=(dd_ports, b_open),\n",
    "    layout=Layout(border=\"solid 2px gray\", width=\"450px\")\n",
    ")\n",
    "\n",
    "display(port_box)"
   ]
  },
  {
   "cell_type": "code",
   "execution_count": 9,
   "id": "ba0c931b-ccf3-462b-ab81-1983eef36faa",
   "metadata": {},
   "outputs": [],
   "source": [
    "b_stop = Button(\n",
    "    description = \"Stop\", \n",
    "    icon=\"stop\",\n",
    "    button_style=\"warning\",\n",
    "    layout = Layout(width=\"100px\")\n",
    ")\n",
    "\n",
    "def stop_click(b):\n",
    "    global flag\n",
    "    flag = False\n",
    "    \n",
    "b_stop.on_click(stop_click)"
   ]
  },
  {
   "cell_type": "code",
   "execution_count": 10,
   "id": "67b97b13-2016-445a-a300-5334252abb2c",
   "metadata": {},
   "outputs": [],
   "source": [
    "# Plot elements\n",
    "x_sc=bq.LinearScale()\n",
    "y_sc=bq.LinearScale()\n",
    "\n",
    "x_ax=bq.Axis(\n",
    "    label=\"x(t)\",\n",
    "    scale=x_sc\n",
    ")\n",
    "\n",
    "y_ax=bq.Axis(\n",
    "    label=\"y(t)\",\n",
    "    scale=y_sc,\n",
    "    orientation = \"vertical\"\n",
    ")\n",
    "\n",
    "Line = bq.Lines(\n",
    "    x=x,\n",
    "    y=y,\n",
    "    scales={\"x\": x_sc, \"y\": y_sc}\n",
    ")\n",
    "\n",
    "fig=bq.Figure(\n",
    "    layout=Layout(width=\"800px\", height=\"400px\"),\n",
    "    axes=[x_ax, y_ax],\n",
    "    marks=[Line],\n",
    "    fig_margin=dict(top=10, bottom=40, left=50, right=10)\n",
    ")\n",
    "\n",
    "#fig"
   ]
  },
  {
   "cell_type": "code",
   "execution_count": 11,
   "id": "3c7f12f5-9e97-4fff-89ea-8ab2302c90d7",
   "metadata": {},
   "outputs": [],
   "source": [
    "app = VBox(\n",
    "    children=(b_stop, fig)\n",
    ")"
   ]
  },
  {
   "cell_type": "code",
   "execution_count": 12,
   "id": "240cb55b-794a-4c2e-881e-fa7c8238ee97",
   "metadata": {},
   "outputs": [],
   "source": [
    "# Loop function\n",
    "def work():\n",
    "    global x\n",
    "    global y\n",
    "    \n",
    "    # Our standard Arduino program charges a cap during 6 secs and discharges it during 6 secs.\n",
    "    # The sampling period is T=20ms, equivalent to a sampling freq. of f = 1/20ms = 50 samples / sec.\n",
    "    # Our Arduino software reports 4 data columns:\n",
    "    # ms: milliseconds since the last Arduino reset\n",
    "    # V0: charging/discharging voltage\n",
    "    # VC: capacitor voltage\n",
    "    # Vd: digital input state, 0mV or 5000mV\n",
    "    \n",
    "    T = 20. # ms\n",
    "    \n",
    "    x = np.zeros(BUFSIZE)\n",
    "    y = np.zeros(BUFSIZE)\n",
    "\n",
    "\n",
    "    ser.flush()\n",
    "\n",
    "    Line.x = x\n",
    "    Line.y = y\n",
    "\n",
    "    k=0\n",
    "    \n",
    "    while flag:\n",
    "        line = ser.readline()\n",
    "        if line: \n",
    "            try:\n",
    "                lst = [int(s) for s in line.split()]\n",
    "\n",
    "                ms, V0, VC, Vd = lst\n",
    "                \n",
    "                if k==0: # first call\n",
    "                    x = ms + T*np.arange(BUFSIZE)\n",
    "                \n",
    "                if k<BUFSIZE:\n",
    "                    x[k]=ms\n",
    "                    y[k]=VC\n",
    "               \n",
    "                else:\n",
    "                    x = np.delete(x,0)\n",
    "                    y = np.delete(y,0)\n",
    "\n",
    "                    x = np.append(x,ms)\n",
    "                    y = np.append(y,VC)\n",
    "\n",
    "                k += 1\n",
    "\n",
    "                Line.x = x\n",
    "                Line.y = y\n",
    "                \n",
    "               \n",
    "            except:\n",
    "                ser.flush()\n",
    "                pass\n",
    "\n",
    "        time.sleep(0.01)"
   ]
  },
  {
   "cell_type": "code",
   "execution_count": 13,
   "id": "b585fd3b-2161-4588-88e4-e430921b1bbc",
   "metadata": {},
   "outputs": [
    {
     "data": {
      "application/vnd.jupyter.widget-view+json": {
       "model_id": "e571b217e4ee4dc4be3e72f425b82a8a",
       "version_major": 2,
       "version_minor": 0
      },
      "text/plain": [
       "VBox(children=(Button(button_style='warning', description='Stop', icon='stop', layout=Layout(width='100px'), s…"
      ]
     },
     "metadata": {},
     "output_type": "display_data"
    }
   ],
   "source": [
    "# GOGOGO!!!\n",
    "\n",
    "flag = True\n",
    "\n",
    "thread = threading.Thread(target=work)\n",
    "\n",
    "display(app)\n",
    "\n",
    "thread.start()"
   ]
  },
  {
   "cell_type": "code",
   "execution_count": null,
   "id": "aeeaeef7-9f61-4f97-9b32-bf133714862c",
   "metadata": {},
   "outputs": [],
   "source": [
    "thread.is_alive()"
   ]
  },
  {
   "cell_type": "code",
   "execution_count": null,
   "id": "609ddb11-8064-4d9d-bed5-4b4f295f817f",
   "metadata": {},
   "outputs": [],
   "source": [
    "x"
   ]
  },
  {
   "cell_type": "code",
   "execution_count": null,
   "id": "46c42653-12f2-4331-a1ec-6b5ec239f734",
   "metadata": {},
   "outputs": [],
   "source": []
  }
 ],
 "metadata": {
  "kernelspec": {
   "display_name": "Python 3 (ipykernel)",
   "language": "python",
   "name": "python3"
  },
  "language_info": {
   "codemirror_mode": {
    "name": "ipython",
    "version": 3
   },
   "file_extension": ".py",
   "mimetype": "text/x-python",
   "name": "python",
   "nbconvert_exporter": "python",
   "pygments_lexer": "ipython3",
   "version": "3.11.0"
  }
 },
 "nbformat": 4,
 "nbformat_minor": 5
}
