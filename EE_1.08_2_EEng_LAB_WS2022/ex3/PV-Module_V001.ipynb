{
 "cells": [
  {
   "cell_type": "markdown",
   "id": "32a7f81d-7484-4bff-87f9-f64eec9a575c",
   "metadata": {},
   "source": [
    "# Performance of a PV Module"
   ]
  },
  {
   "cell_type": "code",
   "execution_count": null,
   "id": "2e28733e-a122-4091-bbd6-07563501ed66",
   "metadata": {},
   "outputs": [],
   "source": []
  },
  {
   "cell_type": "code",
   "execution_count": null,
   "id": "66320f2b-229c-44dd-9425-12a3298e2773",
   "metadata": {},
   "outputs": [],
   "source": []
  }
 ],
 "metadata": {
  "kernelspec": {
   "display_name": "Python 3 (ipykernel)",
   "language": "python",
   "name": "python3"
  },
  "language_info": {
   "codemirror_mode": {
    "name": "ipython",
    "version": 3
   },
   "file_extension": ".py",
   "mimetype": "text/x-python",
   "name": "python",
   "nbconvert_exporter": "python",
   "pygments_lexer": "ipython3",
   "version": "3.9.13"
  }
 },
 "nbformat": 4,
 "nbformat_minor": 5
}
