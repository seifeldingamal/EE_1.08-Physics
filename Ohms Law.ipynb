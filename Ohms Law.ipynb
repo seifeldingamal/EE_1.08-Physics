{
 "cells": [
  {
   "cell_type": "markdown",
   "id": "cc62cdc8-bdc4-441d-aba8-edec30cc8a76",
   "metadata": {},
   "source": [
    "# Ohm's Law\n",
    "## Exercises"
   ]
  },
  {
   "cell_type": "markdown",
   "id": "68d0b5ce-943b-4090-856b-adfda67fc2ce",
   "metadata": {},
   "source": [
    "<div>\n",
    "    <figure>\n",
    "        <img style=\"display: block;\n",
    "                    margin-left: auto;\n",
    "                    margin-right: auto;\n",
    "                    width: 600px;\"\n",
    "             src=\"./images/resistor_network_exercises_v001.png\" width=\"600\"/>\n",
    "        <figcaption style=\" text-align: center;\">Fig. 1:  Three independent circuits with three independent voltage sources.</figcaption>\n",
    "    </figure>\n",
    "</div>"
   ]
  },
  {
   "cell_type": "code",
   "execution_count": 3,
   "id": "a8078b7c-8297-4fb1-8afe-1bcbbb8c5c42",
   "metadata": {},
   "outputs": [],
   "source": [
    "# Given\n",
    "\n",
    "V0_S1 = V0_S2 = V0_S3 = 6 # V\n",
    "R1 = R4 = R7 = 1000 # R\n",
    "R2 = R5 = R8 = 2000 # R\n",
    "R3 = R6 = R9 = 3000 # R\n",
    "\n",
    "# print(f\"The mass of the ice block is m = {m:.2f}kg\")\n",
    "# print(f\"The weight force of the ice block is F = {F:.2f}N\")"
   ]
  },
  {
   "cell_type": "markdown",
   "id": "7b2c5577-f137-45da-925a-049fc09dd009",
   "metadata": {},
   "source": [
    "**Question 1:** <br> What is the total resistance in the left circuit? Which total current $I_\\mathrm{L}$ results from it?"
   ]
  },
  {
   "cell_type": "code",
   "execution_count": 20,
   "id": "ae96f1c6-445a-457c-8f84-e6b63eaae5f5",
   "metadata": {},
   "outputs": [
    {
     "name": "stdout",
     "output_type": "stream",
     "text": [
      "Total resistance in the left circuit is RT_L = 6.0 KOhm\n",
      "Total current in the left circuit is I_L = 1.0 MilliAmpere\n"
     ]
    }
   ],
   "source": [
    "# Calculations:\n",
    "\n",
    "RT_L = R1 + R2 + R3 # R\n",
    "I_L = V0_S1 / RT_L  # I\n",
    "\n",
    "print(f\"Total resistance in the left circuit is RT_L = {RT_L/1e3} KOhm\")\n",
    "print(f\"Total current in the left circuit is I_L = {I_L*1e3} MilliAmpere\")"
   ]
  },
  {
   "cell_type": "markdown",
   "id": "020bb752-a9bd-46d0-ba24-74a6b6848ee4",
   "metadata": {},
   "source": [
    "**Question 2:** <br> The first voltage source has a voltage of $V_\\mathrm{0,S1}$ = $\\mathrm{6V}$. What is voltage drop Δ$V_\\mathrm{1}$ across resistor $R_\\mathrm{1}$?"
   ]
  },
  {
   "cell_type": "code",
   "execution_count": 16,
   "id": "7c5cf229-f5f1-443c-9919-6dfdb524c252",
   "metadata": {},
   "outputs": [
    {
     "name": "stdout",
     "output_type": "stream",
     "text": [
      "Voltage drop delta V_1 is DV_1 = 1.0 Volt\n"
     ]
    }
   ],
   "source": [
    "# Calculations:\n",
    "\n",
    "DV_1 = I_L * R1 # V\n",
    "\n",
    "print(f\"Voltage drop delta V_1 is DV_1 = {DV_1} Volt\")"
   ]
  },
  {
   "cell_type": "markdown",
   "id": "2f4feb50-a319-4bd5-9297-f27628ffadf9",
   "metadata": {},
   "source": [
    "**Question 3:** <br> What is the voltage level (with respect to ground) at the node (junction) between $R_\\mathrm{1}$ and $R_\\mathrm{2}$?"
   ]
  },
  {
   "cell_type": "code",
   "execution_count": 21,
   "id": "dce519e0-b841-44aa-9759-eeb001a8a36b",
   "metadata": {},
   "outputs": [
    {
     "name": "stdout",
     "output_type": "stream",
     "text": [
      "Voltage level at the node between R1 and R2 is Juntion_L = 5.0 Volt\n"
     ]
    }
   ],
   "source": [
    "# Calculations:\n",
    "\n",
    "Juntion_L = V0_S1 - DV_1 # V\n",
    "\n",
    "print(f\"Voltage level at the node between R1 and R2 is Juntion_L = {Juntion_L} Volt\")"
   ]
  },
  {
   "cell_type": "markdown",
   "id": "519c1ac9-a411-4362-91b6-cd8948b172a3",
   "metadata": {},
   "source": [
    "**Question 4:**\n",
    "<br>What is the total resistance in the middle circuit? Which total current $I_\\mathrm{M}$ results from it?\n",
    "<br>Hint: First calculate the parallel resistance $R_\\mathrm{p}$ of $R_\\mathrm{5}$ and $R_\\mathrm{6}$.\n",
    "<br>You can think of $R_\\mathrm{p}$ being a single equivalent resistor replacing $R_\\mathrm{5}$ and $R_\\mathrm{6}$ without changing the effect.\n",
    "<br>Then calculate the series resistance of $R_\\mathrm{p}$ and $R_\\mathrm{4}$."
   ]
  },
  {
   "cell_type": "code",
   "execution_count": 19,
   "id": "079ee22d-98df-467c-84f4-91bd641c9c62",
   "metadata": {},
   "outputs": [
    {
     "name": "stdout",
     "output_type": "stream",
     "text": [
      "Total resistance in the middle circuit is RT_M = 2.2 KOhm\n"
     ]
    }
   ],
   "source": [
    "# Calculations:\n",
    "\n",
    "R_P = 1 / (1/R5 + 1/R6) # R\n",
    "RT_M = R4 + R_P         # R\n",
    "\n",
    "print(f\"Total resistance in the middle circuit is RT_M = {RT_M/1e3} KOhm\")"
   ]
  },
  {
   "cell_type": "markdown",
   "id": "93fe7af6-b933-4c00-9215-23e6b212211e",
   "metadata": {},
   "source": [
    "**Question 5:** <br>What is the voltage level at the node (junction) connecting $R_\\mathrm{4}$, $R_\\mathrm{5}$, and $R_\\mathrm{6}$?"
   ]
  },
  {
   "cell_type": "code",
   "execution_count": 23,
   "id": "630fd959-dc64-480b-8091-f4ecb4dee755",
   "metadata": {},
   "outputs": [
    {
     "name": "stdout",
     "output_type": "stream",
     "text": [
      "Voltage level at the node between R4, R5 and R6 is Juntion_M = 3.27 Volt\n"
     ]
    }
   ],
   "source": [
    "# Calculations:\n",
    "\n",
    "I_M = V0_S2 / RT_M # I\n",
    "Juntion_M = I_M * R_P # V\n",
    "\n",
    "print(f\"Voltage level at the node between R4, R5 and R6 is Juntion_M = {Juntion_M:.2f} Volt\")"
   ]
  },
  {
   "cell_type": "markdown",
   "id": "c3ba3b97-e2e8-4163-87cd-a93bebe42362",
   "metadata": {},
   "source": [
    "**Question 6:** <br>What is the current $I_\\mathrm{6}$ running through $R_\\mathrm{6}$?"
   ]
  },
  {
   "cell_type": "code",
   "execution_count": 28,
   "id": "e6273238-9b13-4652-87bd-346bd68f2f41",
   "metadata": {},
   "outputs": [
    {
     "name": "stdout",
     "output_type": "stream",
     "text": [
      "Total current running through R6 is I6 = 1.09 MilliAmpere\n"
     ]
    }
   ],
   "source": [
    "# Calculations:\n",
    "\n",
    "I6 = Juntion_M / R6 # I\n",
    "\n",
    "print(f\"Total current running through R6 is I6 = {I6*1e3:.2f} MilliAmpere\")"
   ]
  },
  {
   "cell_type": "markdown",
   "id": "eeb0ccdb-54d9-43c3-afd6-9e4f9aa64af7",
   "metadata": {},
   "source": [
    "**Question 7:** <br>What is the total resistance in the right circuit? Which total current $I_\\mathrm{R}$ results from it?"
   ]
  },
  {
   "cell_type": "code",
   "execution_count": 29,
   "id": "9f511e18-19d9-4446-bb5f-899cbe80c475",
   "metadata": {},
   "outputs": [
    {
     "name": "stdout",
     "output_type": "stream",
     "text": [
      "Total resistance in the right circuit is RT_R = 1.33 KOhm\n",
      "Total current in the right circuit is I_R = 4.50 MilliAmpere\n"
     ]
    }
   ],
   "source": [
    "# Calculations:\n",
    "\n",
    "R79 = R7 + R9             # R\n",
    "RT_R = 1 / (1/R8 + 1/R79) # R \n",
    "I_R = V0_S3 / RT_R        # I\n",
    "\n",
    "print(f\"Total resistance in the right circuit is RT_R = {RT_R/1e3:.2f} KOhm\")\n",
    "print(f\"Total current in the right circuit is I_R = {I_R*1e3:.2f} MilliAmpere\")"
   ]
  },
  {
   "cell_type": "markdown",
   "id": "5775ae46-9b73-4090-8390-0d7718307b0d",
   "metadata": {},
   "source": [
    "**Question 8:** <br>What is the voltage drop Δ$V_\\mathrm{7}$ across $R_\\mathrm{7}$?"
   ]
  },
  {
   "cell_type": "code",
   "execution_count": 35,
   "id": "749ee419-ce2b-4ac6-a777-4c92e5d23a74",
   "metadata": {},
   "outputs": [
    {
     "name": "stdout",
     "output_type": "stream",
     "text": [
      "Voltage drop delta V_7 is DV_7 = 1.5 Volt\n"
     ]
    }
   ],
   "source": [
    "# Calculations:\n",
    "\n",
    "DV_7 = V0_S3 * (R7/(R7+R9)) # V\n",
    "\n",
    "print(f\"Voltage drop delta V_7 is DV_7 = {DV_7} Volt\")"
   ]
  },
  {
   "cell_type": "markdown",
   "id": "1391f052-d874-4b32-a9fb-8b1a140ed2cc",
   "metadata": {},
   "source": [
    "**Question 9:** <br>What is the voltage level at the node between $R_\\mathrm{7}$ and $R_\\mathrm{9}$?"
   ]
  },
  {
   "cell_type": "code",
   "execution_count": 36,
   "id": "4009fa98-9c8f-4879-82cf-0be9349bb99b",
   "metadata": {},
   "outputs": [
    {
     "name": "stdout",
     "output_type": "stream",
     "text": [
      "Voltage drop delta V_9 is DV_9 = 4.5 Volt\n"
     ]
    }
   ],
   "source": [
    "# Calculations:\n",
    "\n",
    "DV_9 = V0_S3 * (R9/(R7+R9)) # V\n",
    "\n",
    "print(f\"Voltage drop delta V_9 is DV_9 = {DV_9} Volt\")"
   ]
  },
  {
   "cell_type": "code",
   "execution_count": null,
   "id": "c80b360a-75fc-463e-9551-5ed23cf0443b",
   "metadata": {},
   "outputs": [],
   "source": []
  }
 ],
 "metadata": {
  "kernelspec": {
   "display_name": "Python 3 (ipykernel)",
   "language": "python",
   "name": "python3"
  },
  "language_info": {
   "codemirror_mode": {
    "name": "ipython",
    "version": 3
   },
   "file_extension": ".py",
   "mimetype": "text/x-python",
   "name": "python",
   "nbconvert_exporter": "python",
   "pygments_lexer": "ipython3",
   "version": "3.10.4"
  }
 },
 "nbformat": 4,
 "nbformat_minor": 5
}
